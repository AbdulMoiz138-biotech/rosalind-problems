{
  "nbformat": 4,
  "nbformat_minor": 0,
  "metadata": {
    "colab": {
      "provenance": [],
      "authorship_tag": "ABX9TyO5PYZLW9ShoF1JeIBA+7vs",
      "include_colab_link": true
    },
    "kernelspec": {
      "name": "python3",
      "display_name": "Python 3"
    },
    "language_info": {
      "name": "python"
    }
  },
  "cells": [
    {
      "cell_type": "markdown",
      "metadata": {
        "id": "view-in-github",
        "colab_type": "text"
      },
      "source": [
        "<a href=\"https://colab.research.google.com/github/AbdulMoiz138-biotech/rosalind-problems/blob/main/Counting_DNA_Nucleotide.ipynb\" target=\"_parent\"><img src=\"https://colab.research.google.com/assets/colab-badge.svg\" alt=\"Open In Colab\"/></a>"
      ]
    },
    {
      "cell_type": "code",
      "execution_count": null,
      "metadata": {
        "id": "yLChoa3yAYFC"
      },
      "outputs": [],
      "source": [
        "necleotide={\"A\":0,\"C\":0,\"G\":0,\"T\":0,}\n",
        "def seqcount(seq):\n",
        "  for i in seq:\n",
        "    necleotide[i]+=1\n",
        "  return necleotide\n",
        "\n",
        "lis=\"TTTCACGTAGGGGGTACCTA\"\n",
        "result=seqcount(lis)\n",
        "print(\" \".join(str(v) for v in result.values()))\n"
      ]
    }
  ]
}