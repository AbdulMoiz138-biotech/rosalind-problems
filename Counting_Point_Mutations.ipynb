{
  "nbformat": 4,
  "nbformat_minor": 0,
  "metadata": {
    "colab": {
      "provenance": [],
      "authorship_tag": "ABX9TyOS/3znzB5PS0Zs9biU/CbP",
      "include_colab_link": true
    },
    "kernelspec": {
      "name": "python3",
      "display_name": "Python 3"
    },
    "language_info": {
      "name": "python"
    }
  },
  "cells": [
    {
      "cell_type": "markdown",
      "metadata": {
        "id": "view-in-github",
        "colab_type": "text"
      },
      "source": [
        "<a href=\"https://colab.research.google.com/github/AbdulMoiz138-biotech/rosalind-problems/blob/main/Counting_Point_Mutations.ipynb\" target=\"_parent\"><img src=\"https://colab.research.google.com/assets/colab-badge.svg\" alt=\"Open In Colab\"/></a>"
      ]
    },
    {
      "cell_type": "code",
      "execution_count": 17,
      "metadata": {
        "id": "X5-WMPwBTfCM",
        "colab": {
          "base_uri": "https://localhost:8080/"
        },
        "outputId": "71ea43b1-94a3-4a87-e4f3-3d39af5a5710"
      },
      "outputs": [
        {
          "output_type": "stream",
          "name": "stdout",
          "text": [
            "473\n"
          ]
        }
      ],
      "source": [
        "def mutation(s,t):\n",
        "  mutant=0\n",
        "  for i in range(len(t)):\n",
        "    if s[i] != t[i]:\n",
        "      mutant+=1\n",
        "  return mutant\n",
        "\n",
        "\n",
        "line=\"GAGCCTACTAACGGGAT CATCGTAATGACGGCCT\"\n",
        "\n",
        "a,b=line.split()\n",
        "print(mutation(a,b))\n",
        "\n"
      ]
    }
  ]
}