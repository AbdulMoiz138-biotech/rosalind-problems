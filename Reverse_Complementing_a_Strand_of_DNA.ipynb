{
  "nbformat": 4,
  "nbformat_minor": 0,
  "metadata": {
    "colab": {
      "provenance": [],
      "authorship_tag": "ABX9TyOZLYg8Rb/ZDXP0NEKH1Nmi",
      "include_colab_link": true
    },
    "kernelspec": {
      "name": "python3",
      "display_name": "Python 3"
    },
    "language_info": {
      "name": "python"
    }
  },
  "cells": [
    {
      "cell_type": "markdown",
      "metadata": {
        "id": "view-in-github",
        "colab_type": "text"
      },
      "source": [
        "<a href=\"https://colab.research.google.com/github/AbdulMoiz138-biotech/rosalind-problems/blob/main/Reverse_Complementing_a_Strand_of_DNA.ipynb\" target=\"_parent\"><img src=\"https://colab.research.google.com/assets/colab-badge.svg\" alt=\"Open In Colab\"/></a>"
      ]
    },
    {
      "cell_type": "code",
      "execution_count": null,
      "metadata": {
        "id": "GTa38mvZA-zV"
      },
      "outputs": [],
      "source": [
        "def complement_dna(seq):\n",
        "  comp={\"A\":\"T\",\"T\":\"A\",\"G\":\"C\",\"C\":\"G\"}\n",
        "  seq=seq.upper()\n",
        "  seq_rev=seq[::-1]\n",
        "  result=\"\"\n",
        "  for i in seq_rev:\n",
        "    if i in comp:\n",
        "      result=result+comp[i]\n",
        "  return result\n",
        "\n",
        "\n",
        "lis=\"ATGC\"\n",
        "print(complement_dna(lis))\n",
        "\n",
        "\n"
      ]
    }
  ]
}