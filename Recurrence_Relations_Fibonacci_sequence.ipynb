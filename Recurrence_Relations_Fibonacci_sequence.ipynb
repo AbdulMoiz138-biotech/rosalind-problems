{
  "nbformat": 4,
  "nbformat_minor": 0,
  "metadata": {
    "colab": {
      "provenance": [],
      "authorship_tag": "ABX9TyNfUyuRgOKenHn6xSX8i9Gp"
    },
    "kernelspec": {
      "name": "python3",
      "display_name": "Python 3"
    },
    "language_info": {
      "name": "python"
    }
  },
  "cells": [
    {
      "cell_type": "code",
      "execution_count": null,
      "metadata": {
        "id": "w8FsUbpVBVhm"
      },
      "outputs": [],
      "source": [
        "def rabbit_pairs(n,k):\n",
        "    if n==1 or n==2:\n",
        "      return 1\n",
        "    pervious=1 #f1\n",
        "    current=1  #f2\n",
        "    for i in range(3,n+1):\n",
        "      new = current + k * pervious\n",
        "      pervious, current = current, new\n",
        "    return current\n",
        "\n",
        "\n",
        "print(rabbit_pairs(35,3))\n",
        "\n"
      ]
    }
  ]
}