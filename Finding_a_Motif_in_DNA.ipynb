{
  "nbformat": 4,
  "nbformat_minor": 0,
  "metadata": {
    "colab": {
      "provenance": [],
      "authorship_tag": "ABX9TyPnk+kU61VuBMabDWrbA/eu",
      "include_colab_link": true
    },
    "kernelspec": {
      "name": "python3",
      "display_name": "Python 3"
    },
    "language_info": {
      "name": "python"
    }
  },
  "cells": [
    {
      "cell_type": "markdown",
      "metadata": {
        "id": "view-in-github",
        "colab_type": "text"
      },
      "source": [
        "<a href=\"https://colab.research.google.com/github/AbdulMoiz138-biotech/rosalind-problems/blob/main/Finding_a_Motif_in_DNA.ipynb\" target=\"_parent\"><img src=\"https://colab.research.google.com/assets/colab-badge.svg\" alt=\"Open In Colab\"/></a>"
      ]
    },
    {
      "cell_type": "code",
      "execution_count": 14,
      "metadata": {
        "id": "QIBv6B4aEghl",
        "colab": {
          "base_uri": "https://localhost:8080/"
        },
        "outputId": "ca61b99d-7ba3-49d3-c3ad-2db87c11b55e"
      },
      "outputs": [
        {
          "output_type": "stream",
          "name": "stdout",
          "text": [
            "16 121 237 253 293 324 340 381 398 415 479 577 592 670 695 702 791 841 908\n"
          ]
        }
      ],
      "source": [
        "def repeats_dna(s,t):\n",
        "  position=[]\n",
        "  for i in range(len(s) - len(t) + 1):\n",
        "    if s[i:i+len(t)] == t:\n",
        "      position.append(i+1)\n",
        "  result=' '.join (map(str,position))\n",
        "  return result\n",
        "\n",
        "line=\"GTAAGGCTCAAAACTAGGCTCAAGGCTCACAGGCTCAGCCAGGCTCAGGTCGTCCCTAGGCTCAGCAGGCTCAGGAAGGCTCATAGGCTCACAGGCTCATAAGGCTCAGCGACACCCACTAGGCTCAAGGCTCAATATCTATCCAGGCTCATTGTCAACGCAGGCTCAAAACACAGGCTCACAGGCTCACAGGCTCAGAGGCTCAGAACGAGGCTCAGAGAGGCTCAACCCTCTCTAGGCTCAAGGCTCACTAGGCTCAAGGCTCAAAGGCTCAGCAGGCTCACCCAATCGTAGGCTCAAGGCTCAGGCCCAGGCTCAATGATAGGCTCAAGGCTCACAAGGCTCAAGAAGGCTCAGAGGCTCAGAGCAGGCTCAGAATCAGGCTCAAGGCTCAACGAGGCTCAAGGCTCACCTAGGCTCAAGGCTCATAGGCTCACAGGCTCATCCAAGGCTCAACGAGGCTCAGAAGGCTCATTCGAGGCTCAAGGCTCACTACAGGCTCATAGGCTCATTCGGCAGGCTCACGAAGGCTCACAGCAGGCTCAATGAGGCTCATATGGTGTAGAGGCTCACTCTAGGCTCAAGGCTCAGAGGCTCAAGTCATCGCAGGCTCAATAGGCTCATGAGGCTCACTAGGCTCAGAGGCTCATGAGGCTCAGAAGGCTCAATAGGCTCAAGGCTCAACGAGGCTCATAGGCTCAAGGCTCAAGGCTCAGAGGCTCATAGGCTCATGTAGGCTCACAAGGCTCAGATCTGTAAAAGGCTCACCCTAGGCTCAGACAGGCTCAGTAGGCTCAAGGCTCAGGGAAAGGCTCATAGGCTCATACAAGGCTCAAACCGAGGCTCAAGGCTCAACTAATTGCAAGGCTCAACTTGAAGGCTCAGGAAGGCTCAACATAGGCTCACCAGGCTCAAGGCTCAACGTTAGAGGCTCAAAGGCTCAGCATAAAGGCTCATTAGGCTCAGAGGCTCAAAAGGCTCA AGGCTCAAG\"\n",
        "s,t=line.split()\n",
        "print(repeats_dna(s,t))\n",
        "\n",
        "\n",
        "\n"
      ]
    }
  ]
}