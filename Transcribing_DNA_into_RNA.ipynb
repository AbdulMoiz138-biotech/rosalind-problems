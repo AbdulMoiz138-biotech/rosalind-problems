{
  "nbformat": 4,
  "nbformat_minor": 0,
  "metadata": {
    "colab": {
      "provenance": [],
      "authorship_tag": "ABX9TyPhSqfsOqluEOgz0aVWHsVw",
      "include_colab_link": true
    },
    "kernelspec": {
      "name": "python3",
      "display_name": "Python 3"
    },
    "language_info": {
      "name": "python"
    }
  },
  "cells": [
    {
      "cell_type": "markdown",
      "metadata": {
        "id": "view-in-github",
        "colab_type": "text"
      },
      "source": [
        "<a href=\"https://colab.research.google.com/github/AbdulMoiz138-biotech/rosalind-problems/blob/main/Transcribing_DNA_into_RNA.ipynb\" target=\"_parent\"><img src=\"https://colab.research.google.com/assets/colab-badge.svg\" alt=\"Open In Colab\"/></a>"
      ]
    },
    {
      "cell_type": "code",
      "execution_count": null,
      "metadata": {
        "id": "6wWeELosAufh"
      },
      "outputs": [],
      "source": [
        "nucleuotide=[\"A\",\"T\",\"G\",\"C\"]\n",
        "def trans_dna(seq):\n",
        "  seq=seq.upper()\n",
        "  for i in seq:\n",
        "    if i==\"T\":\n",
        "      seq=seq.replace(\"T\",\"U\")\n",
        "  return seq\n",
        "\n",
        "lis=\"GGTCGCGATCGCTCGGTTTAATTAGAGTGG\"\n",
        "print(trans_dna(lis))\n",
        "\n"
      ]
    }
  ]
}