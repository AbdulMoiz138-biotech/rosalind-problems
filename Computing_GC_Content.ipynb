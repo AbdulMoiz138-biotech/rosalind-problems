{
  "nbformat": 4,
  "nbformat_minor": 0,
  "metadata": {
    "colab": {
      "provenance": [],
      "authorship_tag": "ABX9TyNUpRdrzjassX4ThncqapsC",
      "include_colab_link": true
    },
    "kernelspec": {
      "name": "python3",
      "display_name": "Python 3"
    },
    "language_info": {
      "name": "python"
    }
  },
  "cells": [
    {
      "cell_type": "markdown",
      "metadata": {
        "id": "view-in-github",
        "colab_type": "text"
      },
      "source": [
        "<a href=\"https://colab.research.google.com/github/AbdulMoiz138-biotech/rosalind-problems/blob/main/Computing_GC_Content.ipynb\" target=\"_parent\"><img src=\"https://colab.research.google.com/assets/colab-badge.svg\" alt=\"Open In Colab\"/></a>"
      ]
    },
    {
      "cell_type": "code",
      "execution_count": 105,
      "metadata": {
        "colab": {
          "base_uri": "https://localhost:8080/"
        },
        "id": "sERM-T6k_lmL",
        "outputId": "2ab26d4c-dd3a-4c41-e68b-22c0667dc626"
      },
      "outputs": [
        {
          "output_type": "stream",
          "name": "stdout",
          "text": [
            "Rosalind_6404\n",
            "53.75\n"
          ]
        }
      ],
      "source": [
        "def gc_content(fasta_data):\n",
        "  gc_dict = {}\n",
        "  entries=fasta_data.strip().split('>')\n",
        "\n",
        "\n",
        "#find each of gc content\n",
        "\n",
        "  for entry in entries:\n",
        "    if entry:\n",
        "      header,sequence=entry.split('\\n',1)\n",
        "      sequence=sequence.replace('\\n','')\n",
        "      gc_count=sequence.count(\"G\") + sequence.count(\"C\")\n",
        "      gc_content=(gc_count/len(sequence))*100\n",
        "      gc_dict[header]=gc_content\n",
        "\n",
        "# Find sequence with the highest GC content\n",
        "\n",
        "  max_id = max(gc_dict, key=gc_dict.get)\n",
        "  max_gc = gc_dict[max_id]\n",
        "  print(max_id)\n",
        "  print(round(max_gc, 7))\n",
        "\n",
        "\n",
        "\n",
        "\n",
        "\n",
        "\n",
        "\n",
        "seqs=\"\"\">Rosalind_6404\n",
        "CCTGCGGAAGATCGGCACTAGAATAGCCAGAACCGTTTCTCTGAGGCTTCCGGCCTTCCC\n",
        "TCCCACTAATAATTCTGAGG\n",
        ">Rosalind_5959\n",
        "CCATCGGTAGCGCATCCTTAGTCCAATTAAGTCCCTATCCAGGCGCTCCGCCGAAGGTCT\n",
        "ATATCCATTTGTCAGCAGACACGC\"\"\"\n",
        "\n",
        "\n",
        "\n",
        "\n",
        "\n",
        "\n",
        "gc_content(seqs)\n",
        "\n",
        "\n"
      ]
    }
  ]
}