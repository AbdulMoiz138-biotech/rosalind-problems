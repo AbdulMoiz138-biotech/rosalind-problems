{
  "nbformat": 4,
  "nbformat_minor": 0,
  "metadata": {
    "colab": {
      "provenance": [],
      "authorship_tag": "ABX9TyMUQHEcM/ylj4YuBUrpdBkz",
      "include_colab_link": true
    },
    "kernelspec": {
      "name": "python3",
      "display_name": "Python 3"
    },
    "language_info": {
      "name": "python"
    }
  },
  "cells": [
    {
      "cell_type": "markdown",
      "metadata": {
        "id": "view-in-github",
        "colab_type": "text"
      },
      "source": [
        "<a href=\"https://colab.research.google.com/github/AbdulMoiz138-biotech/rosalind-problems/blob/main/Mendel's_First_Law.ipynb\" target=\"_parent\"><img src=\"https://colab.research.google.com/assets/colab-badge.svg\" alt=\"Open In Colab\"/></a>"
      ]
    },
    {
      "cell_type": "code",
      "execution_count": 9,
      "metadata": {
        "colab": {
          "base_uri": "https://localhost:8080/"
        },
        "id": "Y8hClErrv0Ov",
        "outputId": "96f026a3-613e-4ebf-98f9-c1eb2dd9913c"
      },
      "outputs": [
        {
          "output_type": "stream",
          "name": "stdout",
          "text": [
            "0.72403\n"
          ]
        }
      ],
      "source": [
        "def mendel_law(k,m,n):\n",
        "  total=k+m+n\n",
        "  no_pairs=(total)*(total-1)/2\n",
        "  prob = (\n",
        "    (k*(k-1)/2)*1.0 +\n",
        "    (k*m)*1.0 +\n",
        "    (k*n)*1.0 +\n",
        "    (m*(m-1)/2)*0.75 +\n",
        "    (m*n)*0.5 +\n",
        "    (n*(n-1))*0.0\n",
        "    ) / no_pairs\n",
        "\n",
        "  return round(prob,5)\n",
        "\n",
        "\n",
        "\n",
        "\n",
        "k,m,n =21,27,25\n",
        "print(mendel_law(k,m,n))\n",
        "\n"
      ]
    }
  ]
}