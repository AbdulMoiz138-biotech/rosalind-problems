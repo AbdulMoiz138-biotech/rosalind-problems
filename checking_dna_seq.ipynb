{
  "nbformat": 4,
  "nbformat_minor": 0,
  "metadata": {
    "colab": {
      "provenance": [],
      "authorship_tag": "ABX9TyOjadi0g9S17PW8iPEcbI6a"
    },
    "kernelspec": {
      "name": "python3",
      "display_name": "Python 3"
    },
    "language_info": {
      "name": "python"
    }
  },
  "cells": [
    {
      "cell_type": "code",
      "execution_count": null,
      "metadata": {
        "id": "z2Qer8DM_-72"
      },
      "outputs": [],
      "source": [
        "import random\n",
        "\n",
        "nucleuotide=[\"A\",\"T\",\"G\",\"C\"]\n",
        "def seqnucleotide(seq):\n",
        "      seq=seq.upper()\n",
        "      for i in seq:\n",
        "        if i not in nucleuotide:\n",
        "          return False\n",
        "      return seq\n",
        "\n",
        "list1=\"\".join(random.choices(nucleuotide,k=50))\n",
        "\n",
        "seq1=\"CCGATACTAGGCCCTAGACCTTCTTAAAGACAAGCTCATGCCTCCTTTAC\"\n",
        "\n",
        "print(seqnucleotide(list1))"
      ]
    }
  ]
}